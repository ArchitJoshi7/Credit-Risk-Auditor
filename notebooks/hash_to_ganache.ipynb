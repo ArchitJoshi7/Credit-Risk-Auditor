{
 "cells": [
  {
   "cell_type": "code",
   "execution_count": 1,
   "id": "25b6b48c",
   "metadata": {},
   "outputs": [],
   "source": [
    "import json\n",
    "import hashlib\n",
    "from web3 import Web3\n",
    "import datetime\n"
   ]
  },
  {
   "cell_type": "code",
   "execution_count": null,
   "id": "ae512369",
   "metadata": {},
   "outputs": [],
   "source": [
    "# Load ABI\n",
    "with open(\"../blockchain/abi/DecisionLogger.json\") as f:\n",
    "    abi = json.load(f)\n",
    "\n",
    "# Connect to Ganache\n",
    "ganache_url = \"http://127.0.0.1:7545\"\n",
    "web3 = Web3(Web3.HTTPProvider(ganache_url))\n",
    "\n",
    "# Set up your account details\n",
    "account = \n",
    "private_key = \n",
    "\n",
    "# Contract address from deploy_contract.py output\n",
    "contract_address = \n",
    "\n",
    "# Create contract instance\n",
    "contract = web3.eth.contract(address=contract_address, abi=abi)\n"
   ]
  },
  {
   "cell_type": "code",
   "execution_count": 4,
   "id": "c174086a",
   "metadata": {},
   "outputs": [
    {
     "name": "stdout",
     "output_type": "stream",
     "text": [
      "📦 Log ID: UCI12345_2025-07-10T06:47:26.477564\n",
      "🔐 Hash: fa9315b87b744ff161b1d4874830f4c35466ac81274bf38780c25ec3cc167159\n"
     ]
    },
    {
     "name": "stderr",
     "output_type": "stream",
     "text": [
      "C:\\Users\\arc_j\\AppData\\Local\\Temp\\ipykernel_8600\\2293878913.py:7: DeprecationWarning: datetime.datetime.utcnow() is deprecated and scheduled for removal in a future version. Use timezone-aware objects to represent datetimes in UTC: datetime.datetime.now(datetime.UTC).\n",
      "  \"timestamp\": datetime.datetime.utcnow().isoformat()\n",
      "C:\\Users\\arc_j\\AppData\\Local\\Temp\\ipykernel_8600\\2293878913.py:18: DeprecationWarning: datetime.datetime.utcnow() is deprecated and scheduled for removal in a future version. Use timezone-aware objects to represent datetimes in UTC: datetime.datetime.now(datetime.UTC).\n",
      "  ts = int(datetime.datetime.utcnow().timestamp())\n"
     ]
    }
   ],
   "source": [
    "# Simulated log\n",
    "decision_data = {\n",
    "    \"user_id\": \"UCI12345\",\n",
    "    \"prediction\": \"yes\",\n",
    "    \"probability\": 0.91,\n",
    "    \"model\": \"xgboost-v1\",\n",
    "    \"timestamp\": datetime.datetime.utcnow().isoformat()\n",
    "}\n",
    "\n",
    "# Create a unique ID (log ID)\n",
    "log_id = \"UCI12345_\" + decision_data[\"timestamp\"]\n",
    "\n",
    "# Create hash of log\n",
    "log_str = json.dumps(decision_data, sort_keys=True)\n",
    "log_hash = hashlib.sha256(log_str.encode()).hexdigest()\n",
    "\n",
    "# Timestamp as integer (for blockchain)\n",
    "ts = int(datetime.datetime.utcnow().timestamp())\n",
    "\n",
    "print(\"📦 Log ID:\", log_id)\n",
    "print(\"🔐 Hash:\", log_hash)\n"
   ]
  },
  {
   "cell_type": "code",
   "execution_count": 8,
   "id": "68dda117",
   "metadata": {},
   "outputs": [
    {
     "name": "stdout",
     "output_type": "stream",
     "text": [
      "✅ Hash logged to blockchain.\n",
      "🔗 Tx Hash: 65e603f52131a488797f0479ca863eb40005c9265d530eefaeb9a280bef1fac0\n"
     ]
    }
   ],
   "source": [
    "# Get nonce\n",
    "nonce = web3.eth.get_transaction_count(account)\n",
    "\n",
    "# Build transaction\n",
    "txn = contract.functions.logHash(log_id, log_hash, ts).build_transaction({\n",
    "    \"from\": account,\n",
    "    \"nonce\": nonce,\n",
    "    \"gas\": 200000,\n",
    "    \"gasPrice\": web3.to_wei(\"20\", \"gwei\")\n",
    "})\n",
    "\n",
    "# Sign and send\n",
    "signed_txn = web3.eth.account.sign_transaction(txn, private_key=private_key)\n",
    "tx_hash = web3.eth.send_raw_transaction(signed_txn.raw_transaction)\n",
    "receipt = web3.eth.wait_for_transaction_receipt(tx_hash)\n",
    "\n",
    "print(\"✅ Hash logged to blockchain.\")\n",
    "print(\"🔗 Tx Hash:\", tx_hash.hex())\n"
   ]
  }
 ],
 "metadata": {
  "kernelspec": {
   "display_name": "Python 3",
   "language": "python",
   "name": "python3"
  },
  "language_info": {
   "codemirror_mode": {
    "name": "ipython",
    "version": 3
   },
   "file_extension": ".py",
   "mimetype": "text/x-python",
   "name": "python",
   "nbconvert_exporter": "python",
   "pygments_lexer": "ipython3",
   "version": "3.12.2"
  }
 },
 "nbformat": 4,
 "nbformat_minor": 5
}
