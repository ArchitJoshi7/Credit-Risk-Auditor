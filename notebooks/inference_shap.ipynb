# 3_log_local_store.ipynb

import os
import json
from datetime import datetime
from uuid import uuid4
import numpy as np

# Ensure logs folder exists
LOGS_DIR = "../logs"
os.makedirs(LOGS_DIR, exist_ok=True)

# EXAMPLE: Dummy decision_log to simulate actual input
# (You will replace this with the real one from inference)
decision_log = {
    "log_id": str(uuid4()),
    "timestamp": datetime.utcnow().isoformat(),
    "prediction": 1,
    "prediction_proba": float(np.round(0.8642, 4)),
    "input_features": {
        "age": 0.42,
        "job_admin.": 1.0,
        "job_blue-collar": 0.0,
        "marital_married": 1.0,
        # ... add more fields as in your actual input
    },
    "shap_values": {
        "age": 0.14,
        "job_admin.": 0.32,
        "marital_married": -0.12,
        # ... add more fields as in your actual SHAP
    },
    "model_name": "XGBoost",
    "model_version": "1.0"
}

# Ensure all float32 are JSON serializable
def convert_np_types(obj):
    if isinstance(obj, dict):
        return {k: convert_np_types(v) for k, v in obj.items()}
    elif isinstance(obj, list):
        return [convert_np_types(i) for i in obj]
    elif isinstance(obj, (np.float32, np.float64, np.int32, np.int64)):
        return obj.item()
    else:
        return obj

decision_log = convert_np_types(decision_log)

# Save as JSON file
log_filename = os.path.join(LOGS_DIR, f"{decision_log['log_id']}.json")
with open(log_filename, "w") as f:
    json.dump(decision_log, f, indent=2)

print(f"✅ Decision log saved to: {log_filename}")
