# 1_preprocess_train.ipynb

import pandas as pd
import numpy as np
from sklearn.model_selection import train_test_split
from sklearn.preprocessing import StandardScaler
from sklearn.metrics import accuracy_score, roc_auc_score
from xgboost import XGBClassifier
import joblib
import os

# Paths
DATA_PATH = "../data/bank-additional-full.csv"
MODEL_PATH = "../models/xgb_model.pkl"

# Load raw data
df = pd.read_csv(DATA_PATH, sep=';')

# Drop 'duration' (data leakage)
df.drop(columns=["duration"], inplace=True)

# Encode target
df["y"] = df["y"].map({"yes": 1, "no": 0})

# One-hot encode categorical variables
df_encoded = pd.get_dummies(df, drop_first=True)

# Separate features and target
X = df_encoded.drop("y", axis=1)
y = df_encoded["y"]

# Scale numerical features
num_cols = X.select_dtypes(include=["int64", "float64"]).columns
scaler = StandardScaler()
X[num_cols] = scaler.fit_transform(X[num_cols])

# Train-test split
X_train, X_test, y_train, y_test = train_test_split(X, y, test_size=0.2, random_state=42)

# Train XGBoost
model = XGBClassifier(use_label_encoder=False, eval_metric="logloss", random_state=42)
model.fit(X_train, y_train)

# Evaluate
y_pred = model.predict(X_test)
acc = accuracy_score(y_test, y_pred)
roc = roc_auc_score(y_test, y_pred)

print("✅ Accuracy:", round(acc, 4))
print("✅ ROC AUC:", round(roc, 4))

# Save model
os.makedirs("../models", exist_ok=True)
joblib.dump(model, MODEL_PATH)
print(f"✅ Model saved to {MODEL_PATH}")
