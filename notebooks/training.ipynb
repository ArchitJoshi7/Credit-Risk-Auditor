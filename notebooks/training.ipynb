# 2_train_model.ipynb

import pandas as pd
from sklearn.model_selection import train_test_split
from sklearn.metrics import accuracy_score, roc_auc_score
from xgboost import XGBClassifier
import joblib
import os

# Paths
PROCESSED_DATA_PATH = "../data/processed_data.csv"
MODEL_PATH = "../models/xgb_model.pkl"

# Load preprocessed data
df = pd.read_csv(PROCESSED_DATA_PATH)

# Separate features and target
X = df.drop("y", axis=1)
y = df["y"]

# Train-test split
X_train, X_test, y_train, y_test = train_test_split(X, y, test_size=0.2, random_state=42)

# Train model
model = XGBClassifier(use_label_encoder=False, eval_metric="logloss", random_state=42)
model.fit(X_train, y_train)

# Evaluate model
y_pred = model.predict(X_test)
acc = accuracy_score(y_test, y_pred)
roc = roc_auc_score(y_test, y_pred)

print("✅ Accuracy:", round(acc, 4))
print("✅ ROC AUC:", round(roc, 4))

# Save trained model
joblib.dump(model, MODEL_PATH)
print(f"✅ Model saved to: {MODEL_PATH}")
